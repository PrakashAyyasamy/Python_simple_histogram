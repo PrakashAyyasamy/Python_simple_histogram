{
  "nbformat": 4,
  "nbformat_minor": 0,
  "metadata": {
    "colab": {
      "name": "Simple_python_pyplot_histogram.ipynb",
      "provenance": []
    },
    "kernelspec": {
      "name": "python3",
      "display_name": "Python 3"
    },
    "language_info": {
      "name": "python"
    }
  },
  "cells": [
    {
      "cell_type": "code",
      "execution_count": null,
      "metadata": {
        "id": "7SY-HaH_6wqQ"
      },
      "outputs": [],
      "source": [
        "import pandas as pd\n",
        "from matplotlib import pyplot as plt\n",
        "\n",
        "plt.style.use('fivethirtyeight')\n",
        "\n",
        "data=pd.read_csv('/content/Histogram.csv')\n",
        "ids=data['Responder_id']\n",
        "ages=data['Age']\n",
        "\n",
        "bins=[10,20,30,40,50,60,70,80,90,100]\n",
        "plt.hist(ages, bins=bins, edgecolor='black', label='all devs', log=True)\n",
        "\n",
        "\n",
        "\n",
        "median_age=29\n",
        "color='#fc4f30'\n",
        "plt.axvline(median_age, color=color, label='Age median')\n",
        "\n",
        "\n",
        "plt.legend()\n",
        "\n",
        "plt.title('Ages of repondents')\n",
        "plt.xlabel('Ages')\n",
        "plt.ylabel('Total respondents')\n",
        "plt.show()"
      ]
    }
  ]
}